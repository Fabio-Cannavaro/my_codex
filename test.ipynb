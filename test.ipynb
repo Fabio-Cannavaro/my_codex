{
 "cells": [
  {
   "cell_type": "code",
   "execution_count": null,
   "id": "25c8f86a",
   "metadata": {},
   "outputs": [],
   "source": [
    "print(\"Hello from my-codex!\")\n"
   ]
  }
 ],
 "metadata": {
  "language_info": {
   "name": "python"
  }
 },
 "nbformat": 4,
 "nbformat_minor": 5
}
